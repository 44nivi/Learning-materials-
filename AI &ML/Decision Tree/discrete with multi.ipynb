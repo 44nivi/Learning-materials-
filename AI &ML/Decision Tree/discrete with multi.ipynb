{
 "cells": [
  {
   "cell_type": "code",
   "execution_count": 1,
   "metadata": {},
   "outputs": [],
   "source": [
    "import numpy as np\n",
    "import pandas as pd\n",
    "from sklearn.model_selection import train_test_split\n",
    "from sklearn.metrics import accuracy_score\n",
    "from sklearn.preprocessing import LabelEncoder\n",
    "\n",
    "# Define a class for a decision tree node\n",
    "class DecisionTreeNode:\n",
    "    def __init__(self, feature_index=None, threshold=None, subtrees=None, value=None):\n",
    "        self.feature_index = feature_index  # Index of the feature used for splitting\n",
    "        self.threshold = threshold  # Threshold value for splitting\n",
    "        self.subtrees = subtrees  # Subtrees for different feature values\n",
    "        self.value = value  # Value to return if this node is a leaf node\n"
   ]
  },
  {
   "cell_type": "code",
   "execution_count": null,
   "metadata": {},
   "outputs": [],
   "source": []
  }
 ],
 "metadata": {
  "kernelspec": {
   "display_name": "Python 3",
   "language": "python",
   "name": "python3"
  },
  "language_info": {
   "codemirror_mode": {
    "name": "ipython",
    "version": 3
   },
   "file_extension": ".py",
   "mimetype": "text/x-python",
   "name": "python",
   "nbconvert_exporter": "python",
   "pygments_lexer": "ipython3",
   "version": "3.12.3"
  }
 },
 "nbformat": 4,
 "nbformat_minor": 2
}
